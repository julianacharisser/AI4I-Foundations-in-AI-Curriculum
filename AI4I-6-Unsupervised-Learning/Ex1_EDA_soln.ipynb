{
 "cells": [
  {
   "cell_type": "markdown",
   "metadata": {},
   "source": [
    "# Unsupervised Learning 2 \n",
    "\n",
    "## Lesson 1: Exploratory Data Analysis\n",
    "Our objective is to apply unsupervised learning methods on online retail data. What we want to learn:\n",
    "* How can I group the various customers?\n",
    "* What are my small customers buying? (individuals or non-wholesalers)\n",
    "* What kind of wholesale customers do I have?\n",
    "\n",
    "### Part 0: Filtering the Data"
   ]
  },
  {
   "cell_type": "code",
   "execution_count": 1,
   "metadata": {},
   "outputs": [],
   "source": [
    "# Import the required libraries\n",
    "import numpy as np\n",
    "import pandas as pd"
   ]
  },
  {
   "cell_type": "code",
   "execution_count": 2,
   "metadata": {},
   "outputs": [],
   "source": [
    "# Read in the input data in Excel\n",
    "df = pd.read_excel(\"Online Retail.xlsx\")"
   ]
  },
  {
   "cell_type": "code",
   "execution_count": 3,
   "metadata": {},
   "outputs": [
    {
     "data": {
      "text/plain": [
       "(541909, 8)"
      ]
     },
     "execution_count": 3,
     "metadata": {},
     "output_type": "execute_result"
    }
   ],
   "source": [
    "# Display the dimensions of the dataframe to validate against data description\n",
    "df.shape"
   ]
  },
  {
   "cell_type": "markdown",
   "metadata": {},
   "source": [
    "Note that there are other data cleaning and engineering steps that can be done to make the data ‘clean’. However this data as filtered here will be sufficient for our learning purposes.\n",
    "* We are only interested in transactions coming from the United Kingdom\n",
    "* Where the CustomerID is not missing\n",
    "* Where the Description is not missing\n",
    "* Where the InvoiceNo does not start with ‘C’ (Look at the data description to see why)\n",
    "* Quantity greater than 0\n",
    "* Unit Price greater than 0\n",
    "* The InvoiceDate is a full year between 11 Dec 2010 to 10 Dec 2011"
   ]
  },
  {
   "cell_type": "code",
   "execution_count": null,
   "metadata": {},
   "outputs": [],
   "source": [
    "# Apply filters on the data. \n",
    "df_f = df[\n",
    "    (df['Country']=='United Kingdom') &\n",
    "    (df['CustomerID'].notnull()) &\n",
    "    (df['Description'].notnull()) &\n",
    "    (~df[\"InvoiceNo\"].str.contains(\"C\",na=False)) &\n",
    "    (df['Quantity'] > 0) &\n",
    "    (df['UnitPrice'] > 0) #&\n",
    "#     (df['InvoiceDate'] >= \"2010-12-11\") & (df['InvoiceDate'] < \"2011-12-11\")\n",
    "]"
   ]
  },
  {
   "cell_type": "code",
   "execution_count": 16,
   "metadata": {},
   "outputs": [
    {
     "data": {
      "text/plain": [
       "(354321, 8)"
      ]
     },
     "execution_count": 16,
     "metadata": {},
     "output_type": "execute_result"
    }
   ],
   "source": [
    "# Print the dimensions of the dataset\n",
    "df_f.shape"
   ]
  },
  {
   "cell_type": "code",
   "execution_count": 6,
   "metadata": {},
   "outputs": [],
   "source": [
    "# Save the data\n",
    "df_f.to_csv(\"OnlineRetail_Filtered.csv\", index=False)"
   ]
  },
  {
   "cell_type": "markdown",
   "metadata": {},
   "source": [
    "### Part 1: Exploratory Data Analysis"
   ]
  },
  {
   "cell_type": "markdown",
   "metadata": {},
   "source": [
    "Questions to ask the Data\n",
    "1. What is the shape of your data i.e. number of rows and columns?\n",
    "2. How many of the columns (or features) are numerical and how many are categorical?\n",
    "3. For the numerical columns, what does the distributions look like?\n",
    "4. What is the name of the column to be predicted?\n",
    "5. How are the various attributes correlated to the outcome variable?\n",
    "6. For the numerical columns, how many missing values are there for each column?\n",
    "7. For the categorical columns, how many missing values are there for each column?\n",
    "8. What visualizations can you use to highlight outliers in the data?"
   ]
  },
  {
   "cell_type": "code",
   "execution_count": 7,
   "metadata": {},
   "outputs": [],
   "source": [
    "# Do your EDA on the filtered data here"
   ]
  }
 ],
 "metadata": {
  "kernelspec": {
   "display_name": "Python 3",
   "language": "python",
   "name": "python3"
  },
  "language_info": {
   "codemirror_mode": {
    "name": "ipython",
    "version": 3
   },
   "file_extension": ".py",
   "mimetype": "text/x-python",
   "name": "python",
   "nbconvert_exporter": "python",
   "pygments_lexer": "ipython3",
   "version": "3.7.4"
  }
 },
 "nbformat": 4,
 "nbformat_minor": 4
}
